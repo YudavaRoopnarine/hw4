{
  "nbformat": 4,
  "nbformat_minor": 0,
  "metadata": {
    "colab": {
      "name": "Untitled",
      "provenance": [],
      "authorship_tag": "ABX9TyOhxozbdrKF1EqIW18DhqQY",
      "include_colab_link": true
    },
    "kernelspec": {
      "name": "python3",
      "display_name": "Python 3"
    },
    "language_info": {
      "name": "python"
    }
  },
  "cells": [
    {
      "cell_type": "markdown",
      "metadata": {
        "id": "view-in-github",
        "colab_type": "text"
      },
      "source": [
        "<a href=\"https://colab.research.google.com/github/oatthegreat/hw4/blob/main/Untitled.ipynb\" target=\"_parent\"><img src=\"https://colab.research.google.com/assets/colab-badge.svg\" alt=\"Open In Colab\"/></a>"
      ]
    },
    {
      "cell_type": "code",
      "execution_count": 169,
      "metadata": {
        "colab": {
          "base_uri": "https://localhost:8080/"
        },
        "id": "tal80oS216Y0",
        "outputId": "ca4de260-14e8-49d9-d5ea-b27113ddae58"
      },
      "outputs": [
        {
          "output_type": "stream",
          "name": "stdout",
          "text": [
            "[2 4]\n"
          ]
        }
      ],
      "source": [
        "#1\n",
        "import pandas as pd\n",
        "import numpy as np\n",
        "\n",
        "a = np.array([1, 2, 3, 2, 3, 4, 3, 4, 5, 6])\n",
        "b = np.array([7, 2, 10, 2, 7, 4, 9, 4, 9, 8])\n",
        "\n",
        "print(np.intersect1d(a, b))"
      ]
    },
    {
      "cell_type": "code",
      "source": [
        "#2\n",
        "data = np.random.random_integers(5, size=(5,3))\n",
        "data\n",
        "#used numphy.org"
      ],
      "metadata": {
        "colab": {
          "base_uri": "https://localhost:8080/"
        },
        "id": "6yOTdE9ilbRQ",
        "outputId": "4f6c39e9-46d2-4b48-d427-19d2c17692d8"
      },
      "execution_count": 168,
      "outputs": [
        {
          "output_type": "stream",
          "name": "stderr",
          "text": [
            "/usr/local/lib/python3.7/dist-packages/ipykernel_launcher.py:2: DeprecationWarning: This function is deprecated. Please call randint(1, 5 + 1) instead\n",
            "  \n"
          ]
        },
        {
          "output_type": "execute_result",
          "data": {
            "text/plain": [
              "array([[1, 3, 2],\n",
              "       [2, 3, 5],\n",
              "       [4, 3, 1],\n",
              "       [5, 3, 3],\n",
              "       [5, 5, 5]])"
            ]
          },
          "metadata": {},
          "execution_count": 168
        }
      ]
    },
    {
      "cell_type": "code",
      "source": [
        "#3\n",
        "data.flatten()"
      ],
      "metadata": {
        "colab": {
          "base_uri": "https://localhost:8080/"
        },
        "id": "DNT85ulgniJd",
        "outputId": "26cd1440-908a-45ed-8a0c-b39cc6e1bbba"
      },
      "execution_count": 167,
      "outputs": [
        {
          "output_type": "execute_result",
          "data": {
            "text/plain": [
              "array([1, 3, 2, 2, 3, 4, 3, 2, 1, 5, 1, 2, 5, 2, 1])"
            ]
          },
          "metadata": {},
          "execution_count": 167
        }
      ]
    },
    {
      "cell_type": "code",
      "source": [
        "#4\n",
        "a1 = data[:,0]\n",
        "a2 = data[:,1]\n",
        "a3 = data[:,2]\n",
        "\n",
        "# data[:1, :2]\n",
        "np.array([[a1],[a2],[a3]])"
      ],
      "metadata": {
        "colab": {
          "base_uri": "https://localhost:8080/"
        },
        "id": "oxQ9pTMNn2IJ",
        "outputId": "aa9d9079-d298-4e38-9906-91dc4241144d"
      },
      "execution_count": 166,
      "outputs": [
        {
          "output_type": "execute_result",
          "data": {
            "text/plain": [
              "array([[[1, 2, 3, 5, 5]],\n",
              "\n",
              "       [[3, 3, 2, 1, 2]],\n",
              "\n",
              "       [[2, 4, 1, 2, 1]]])"
            ]
          },
          "metadata": {},
          "execution_count": 166
        }
      ]
    },
    {
      "cell_type": "code",
      "source": [
        "#5\n",
        "d3_2d = np.array([[a1],[a2],[a3]])\n",
        "d3_2d.reshape(5, 3)"
      ],
      "metadata": {
        "colab": {
          "base_uri": "https://localhost:8080/"
        },
        "id": "Qz8MBPM5vnqG",
        "outputId": "9797b9a8-91ce-4b39-9c83-76e9018f71db"
      },
      "execution_count": 165,
      "outputs": [
        {
          "output_type": "execute_result",
          "data": {
            "text/plain": [
              "array([[1, 2, 3],\n",
              "       [5, 5, 3],\n",
              "       [3, 2, 1],\n",
              "       [2, 2, 4],\n",
              "       [1, 2, 1]])"
            ]
          },
          "metadata": {},
          "execution_count": 165
        }
      ]
    },
    {
      "cell_type": "code",
      "source": [
        "#6\n",
        "a = np.array([12, 5, 7, 15, 3, 1, 8])\n",
        "b = np.array([14, 6, 3, 11, 19, 12, 5])\n",
        "\n",
        "np.setxor1d(a,b)"
      ],
      "metadata": {
        "colab": {
          "base_uri": "https://localhost:8080/"
        },
        "id": "vdlZSz7NxnQw",
        "outputId": "addf0682-5cca-459d-c416-0ed6aaf3d681"
      },
      "execution_count": 164,
      "outputs": [
        {
          "output_type": "execute_result",
          "data": {
            "text/plain": [
              "array([ 1,  6,  7,  8, 11, 14, 15, 19])"
            ]
          },
          "metadata": {},
          "execution_count": 164
        }
      ]
    },
    {
      "cell_type": "markdown",
      "source": [
        "1-What is the maximum yearly NYC consumption of water in millions of gallons per day?\n",
        "\n",
        "2-How many calendar years are represented within this data set? NumPy's shape command is one way to find\n",
        "out.\n",
        "\n",
        "3-What is the mean and the standard deviation of the per capita daily water consumption?\n",
        "\n",
        "4-What is the increase or decrease in population from year to year? Use NumPy's `diff` function to create an array\n",
        "of differences and save that to a variable called \"pop_diff\", then print that variable to the screen"
      ],
      "metadata": {
        "id": "g1srXk_JZhtD"
      }
    },
    {
      "cell_type": "code",
      "source": [
        "#7\n",
        "import pandas as pd\n",
        "import numpy as np\n",
        "#data set\n",
        "df = pd.read_csv ('https://raw.githubusercontent.com/oatthegreat/hw4/main/Module6_Data%20(1).csv')\n",
        "#copy\n",
        "df_original = df\n",
        "#check data set\n",
        "df.head(40)"
      ],
      "metadata": {
        "colab": {
          "base_uri": "https://localhost:8080/",
          "height": 1000
        },
        "id": "DhqldOTcZpJ7",
        "outputId": "0308a3f0-fd49-444c-be4d-65e831e22b5a"
      },
      "execution_count": 163,
      "outputs": [
        {
          "output_type": "execute_result",
          "data": {
            "text/plain": [
              "    Year  New York City Population  NYC Consumption(Million gallons per day)  \\\n",
              "0   1979                 7102100.0                                    1512.0   \n",
              "1   1980                 7071639.0                                    1506.0   \n",
              "2   1981                 7089241.0                                    1309.0   \n",
              "3   1982                 7109105.0                                    1382.0   \n",
              "4   1983                 7181224.0                                    1424.0   \n",
              "5   1984                 7234514.0                                    1465.0   \n",
              "6   1985                 7274054.0                                    1326.0   \n",
              "7   1986                 7319246.0                                    1351.0   \n",
              "8   1987                 7342476.0                                    1447.0   \n",
              "9   1988                 7353719.0                                    1484.0   \n",
              "10  1989                 7344175.0                                    1402.0   \n",
              "11  1990                 7335650.0                                    1424.0   \n",
              "12  1991                 7374501.0                                    1469.0   \n",
              "13  1992                 7428944.0                                    1369.0   \n",
              "14  1993                 7506166.0                                    1368.5   \n",
              "15  1994                 7570458.0                                    1357.7   \n",
              "16  1995                 7633040.0                                    1325.7   \n",
              "17  1996                 7697812.0                                    1297.9   \n",
              "18  1997                 7773443.0                                    1205.5   \n",
              "19  1998                 7858259.0                                    1219.5   \n",
              "20  1999                 7947660.0                                    1237.2   \n",
              "21  2000                 8008278.0                                    1240.4   \n",
              "22  2001                 8024963.5                                    1184.0   \n",
              "23  2002                 8041649.0                                    1135.6   \n",
              "24  2003                 8058334.5                                    1093.7   \n",
              "25  2004                 8075020.0                                    1099.5   \n",
              "26  2005                 8091705.5                                    1138.0   \n",
              "27  2006                 8108391.0                                    1069.0   \n",
              "28  2007                 8125076.5                                    1114.0   \n",
              "29  2008                 8141762.0                                    1098.0   \n",
              "30  2009                 8158447.5                                    1007.5   \n",
              "31  2010                 8175133.0                                    1039.0   \n",
              "32  2011                 8284098.0                                    1021.0   \n",
              "33  2012                 8361179.0                                    1009.1   \n",
              "34  2013                 8422460.0                                    1006.1   \n",
              "35  2014                 8471990.0                                     996.0   \n",
              "36  2015                 8516502.0                                    1009.0   \n",
              "37  2016                 8537673.0                                    1002.0   \n",
              "38  2017                 8622698.0                                     990.2   \n",
              "\n",
              "    Per Capita(Gallons per person per day)  \n",
              "0                                      213  \n",
              "1                                      213  \n",
              "2                                      185  \n",
              "3                                      194  \n",
              "4                                      198  \n",
              "5                                      203  \n",
              "6                                      182  \n",
              "7                                      185  \n",
              "8                                      197  \n",
              "9                                      202  \n",
              "10                                     191  \n",
              "11                                     194  \n",
              "12                                     199  \n",
              "13                                     184  \n",
              "14                                     182  \n",
              "15                                     179  \n",
              "16                                     174  \n",
              "17                                     169  \n",
              "18                                     155  \n",
              "19                                     155  \n",
              "20                                     156  \n",
              "21                                     155  \n",
              "22                                     148  \n",
              "23                                     141  \n",
              "24                                     136  \n",
              "25                                     136  \n",
              "26                                     141  \n",
              "27                                     132  \n",
              "28                                     137  \n",
              "29                                     135  \n",
              "30                                     123  \n",
              "31                                     127  \n",
              "32                                     123  \n",
              "33                                     121  \n",
              "34                                     119  \n",
              "35                                     118  \n",
              "36                                     118  \n",
              "37                                     117  \n",
              "38                                     115  "
            ],
            "text/html": [
              "\n",
              "  <div id=\"df-27ac08c1-736e-485e-b961-d82b7ac0bfb7\">\n",
              "    <div class=\"colab-df-container\">\n",
              "      <div>\n",
              "<style scoped>\n",
              "    .dataframe tbody tr th:only-of-type {\n",
              "        vertical-align: middle;\n",
              "    }\n",
              "\n",
              "    .dataframe tbody tr th {\n",
              "        vertical-align: top;\n",
              "    }\n",
              "\n",
              "    .dataframe thead th {\n",
              "        text-align: right;\n",
              "    }\n",
              "</style>\n",
              "<table border=\"1\" class=\"dataframe\">\n",
              "  <thead>\n",
              "    <tr style=\"text-align: right;\">\n",
              "      <th></th>\n",
              "      <th>Year</th>\n",
              "      <th>New York City Population</th>\n",
              "      <th>NYC Consumption(Million gallons per day)</th>\n",
              "      <th>Per Capita(Gallons per person per day)</th>\n",
              "    </tr>\n",
              "  </thead>\n",
              "  <tbody>\n",
              "    <tr>\n",
              "      <th>0</th>\n",
              "      <td>1979</td>\n",
              "      <td>7102100.0</td>\n",
              "      <td>1512.0</td>\n",
              "      <td>213</td>\n",
              "    </tr>\n",
              "    <tr>\n",
              "      <th>1</th>\n",
              "      <td>1980</td>\n",
              "      <td>7071639.0</td>\n",
              "      <td>1506.0</td>\n",
              "      <td>213</td>\n",
              "    </tr>\n",
              "    <tr>\n",
              "      <th>2</th>\n",
              "      <td>1981</td>\n",
              "      <td>7089241.0</td>\n",
              "      <td>1309.0</td>\n",
              "      <td>185</td>\n",
              "    </tr>\n",
              "    <tr>\n",
              "      <th>3</th>\n",
              "      <td>1982</td>\n",
              "      <td>7109105.0</td>\n",
              "      <td>1382.0</td>\n",
              "      <td>194</td>\n",
              "    </tr>\n",
              "    <tr>\n",
              "      <th>4</th>\n",
              "      <td>1983</td>\n",
              "      <td>7181224.0</td>\n",
              "      <td>1424.0</td>\n",
              "      <td>198</td>\n",
              "    </tr>\n",
              "    <tr>\n",
              "      <th>5</th>\n",
              "      <td>1984</td>\n",
              "      <td>7234514.0</td>\n",
              "      <td>1465.0</td>\n",
              "      <td>203</td>\n",
              "    </tr>\n",
              "    <tr>\n",
              "      <th>6</th>\n",
              "      <td>1985</td>\n",
              "      <td>7274054.0</td>\n",
              "      <td>1326.0</td>\n",
              "      <td>182</td>\n",
              "    </tr>\n",
              "    <tr>\n",
              "      <th>7</th>\n",
              "      <td>1986</td>\n",
              "      <td>7319246.0</td>\n",
              "      <td>1351.0</td>\n",
              "      <td>185</td>\n",
              "    </tr>\n",
              "    <tr>\n",
              "      <th>8</th>\n",
              "      <td>1987</td>\n",
              "      <td>7342476.0</td>\n",
              "      <td>1447.0</td>\n",
              "      <td>197</td>\n",
              "    </tr>\n",
              "    <tr>\n",
              "      <th>9</th>\n",
              "      <td>1988</td>\n",
              "      <td>7353719.0</td>\n",
              "      <td>1484.0</td>\n",
              "      <td>202</td>\n",
              "    </tr>\n",
              "    <tr>\n",
              "      <th>10</th>\n",
              "      <td>1989</td>\n",
              "      <td>7344175.0</td>\n",
              "      <td>1402.0</td>\n",
              "      <td>191</td>\n",
              "    </tr>\n",
              "    <tr>\n",
              "      <th>11</th>\n",
              "      <td>1990</td>\n",
              "      <td>7335650.0</td>\n",
              "      <td>1424.0</td>\n",
              "      <td>194</td>\n",
              "    </tr>\n",
              "    <tr>\n",
              "      <th>12</th>\n",
              "      <td>1991</td>\n",
              "      <td>7374501.0</td>\n",
              "      <td>1469.0</td>\n",
              "      <td>199</td>\n",
              "    </tr>\n",
              "    <tr>\n",
              "      <th>13</th>\n",
              "      <td>1992</td>\n",
              "      <td>7428944.0</td>\n",
              "      <td>1369.0</td>\n",
              "      <td>184</td>\n",
              "    </tr>\n",
              "    <tr>\n",
              "      <th>14</th>\n",
              "      <td>1993</td>\n",
              "      <td>7506166.0</td>\n",
              "      <td>1368.5</td>\n",
              "      <td>182</td>\n",
              "    </tr>\n",
              "    <tr>\n",
              "      <th>15</th>\n",
              "      <td>1994</td>\n",
              "      <td>7570458.0</td>\n",
              "      <td>1357.7</td>\n",
              "      <td>179</td>\n",
              "    </tr>\n",
              "    <tr>\n",
              "      <th>16</th>\n",
              "      <td>1995</td>\n",
              "      <td>7633040.0</td>\n",
              "      <td>1325.7</td>\n",
              "      <td>174</td>\n",
              "    </tr>\n",
              "    <tr>\n",
              "      <th>17</th>\n",
              "      <td>1996</td>\n",
              "      <td>7697812.0</td>\n",
              "      <td>1297.9</td>\n",
              "      <td>169</td>\n",
              "    </tr>\n",
              "    <tr>\n",
              "      <th>18</th>\n",
              "      <td>1997</td>\n",
              "      <td>7773443.0</td>\n",
              "      <td>1205.5</td>\n",
              "      <td>155</td>\n",
              "    </tr>\n",
              "    <tr>\n",
              "      <th>19</th>\n",
              "      <td>1998</td>\n",
              "      <td>7858259.0</td>\n",
              "      <td>1219.5</td>\n",
              "      <td>155</td>\n",
              "    </tr>\n",
              "    <tr>\n",
              "      <th>20</th>\n",
              "      <td>1999</td>\n",
              "      <td>7947660.0</td>\n",
              "      <td>1237.2</td>\n",
              "      <td>156</td>\n",
              "    </tr>\n",
              "    <tr>\n",
              "      <th>21</th>\n",
              "      <td>2000</td>\n",
              "      <td>8008278.0</td>\n",
              "      <td>1240.4</td>\n",
              "      <td>155</td>\n",
              "    </tr>\n",
              "    <tr>\n",
              "      <th>22</th>\n",
              "      <td>2001</td>\n",
              "      <td>8024963.5</td>\n",
              "      <td>1184.0</td>\n",
              "      <td>148</td>\n",
              "    </tr>\n",
              "    <tr>\n",
              "      <th>23</th>\n",
              "      <td>2002</td>\n",
              "      <td>8041649.0</td>\n",
              "      <td>1135.6</td>\n",
              "      <td>141</td>\n",
              "    </tr>\n",
              "    <tr>\n",
              "      <th>24</th>\n",
              "      <td>2003</td>\n",
              "      <td>8058334.5</td>\n",
              "      <td>1093.7</td>\n",
              "      <td>136</td>\n",
              "    </tr>\n",
              "    <tr>\n",
              "      <th>25</th>\n",
              "      <td>2004</td>\n",
              "      <td>8075020.0</td>\n",
              "      <td>1099.5</td>\n",
              "      <td>136</td>\n",
              "    </tr>\n",
              "    <tr>\n",
              "      <th>26</th>\n",
              "      <td>2005</td>\n",
              "      <td>8091705.5</td>\n",
              "      <td>1138.0</td>\n",
              "      <td>141</td>\n",
              "    </tr>\n",
              "    <tr>\n",
              "      <th>27</th>\n",
              "      <td>2006</td>\n",
              "      <td>8108391.0</td>\n",
              "      <td>1069.0</td>\n",
              "      <td>132</td>\n",
              "    </tr>\n",
              "    <tr>\n",
              "      <th>28</th>\n",
              "      <td>2007</td>\n",
              "      <td>8125076.5</td>\n",
              "      <td>1114.0</td>\n",
              "      <td>137</td>\n",
              "    </tr>\n",
              "    <tr>\n",
              "      <th>29</th>\n",
              "      <td>2008</td>\n",
              "      <td>8141762.0</td>\n",
              "      <td>1098.0</td>\n",
              "      <td>135</td>\n",
              "    </tr>\n",
              "    <tr>\n",
              "      <th>30</th>\n",
              "      <td>2009</td>\n",
              "      <td>8158447.5</td>\n",
              "      <td>1007.5</td>\n",
              "      <td>123</td>\n",
              "    </tr>\n",
              "    <tr>\n",
              "      <th>31</th>\n",
              "      <td>2010</td>\n",
              "      <td>8175133.0</td>\n",
              "      <td>1039.0</td>\n",
              "      <td>127</td>\n",
              "    </tr>\n",
              "    <tr>\n",
              "      <th>32</th>\n",
              "      <td>2011</td>\n",
              "      <td>8284098.0</td>\n",
              "      <td>1021.0</td>\n",
              "      <td>123</td>\n",
              "    </tr>\n",
              "    <tr>\n",
              "      <th>33</th>\n",
              "      <td>2012</td>\n",
              "      <td>8361179.0</td>\n",
              "      <td>1009.1</td>\n",
              "      <td>121</td>\n",
              "    </tr>\n",
              "    <tr>\n",
              "      <th>34</th>\n",
              "      <td>2013</td>\n",
              "      <td>8422460.0</td>\n",
              "      <td>1006.1</td>\n",
              "      <td>119</td>\n",
              "    </tr>\n",
              "    <tr>\n",
              "      <th>35</th>\n",
              "      <td>2014</td>\n",
              "      <td>8471990.0</td>\n",
              "      <td>996.0</td>\n",
              "      <td>118</td>\n",
              "    </tr>\n",
              "    <tr>\n",
              "      <th>36</th>\n",
              "      <td>2015</td>\n",
              "      <td>8516502.0</td>\n",
              "      <td>1009.0</td>\n",
              "      <td>118</td>\n",
              "    </tr>\n",
              "    <tr>\n",
              "      <th>37</th>\n",
              "      <td>2016</td>\n",
              "      <td>8537673.0</td>\n",
              "      <td>1002.0</td>\n",
              "      <td>117</td>\n",
              "    </tr>\n",
              "    <tr>\n",
              "      <th>38</th>\n",
              "      <td>2017</td>\n",
              "      <td>8622698.0</td>\n",
              "      <td>990.2</td>\n",
              "      <td>115</td>\n",
              "    </tr>\n",
              "  </tbody>\n",
              "</table>\n",
              "</div>\n",
              "      <button class=\"colab-df-convert\" onclick=\"convertToInteractive('df-27ac08c1-736e-485e-b961-d82b7ac0bfb7')\"\n",
              "              title=\"Convert this dataframe to an interactive table.\"\n",
              "              style=\"display:none;\">\n",
              "        \n",
              "  <svg xmlns=\"http://www.w3.org/2000/svg\" height=\"24px\"viewBox=\"0 0 24 24\"\n",
              "       width=\"24px\">\n",
              "    <path d=\"M0 0h24v24H0V0z\" fill=\"none\"/>\n",
              "    <path d=\"M18.56 5.44l.94 2.06.94-2.06 2.06-.94-2.06-.94-.94-2.06-.94 2.06-2.06.94zm-11 1L8.5 8.5l.94-2.06 2.06-.94-2.06-.94L8.5 2.5l-.94 2.06-2.06.94zm10 10l.94 2.06.94-2.06 2.06-.94-2.06-.94-.94-2.06-.94 2.06-2.06.94z\"/><path d=\"M17.41 7.96l-1.37-1.37c-.4-.4-.92-.59-1.43-.59-.52 0-1.04.2-1.43.59L10.3 9.45l-7.72 7.72c-.78.78-.78 2.05 0 2.83L4 21.41c.39.39.9.59 1.41.59.51 0 1.02-.2 1.41-.59l7.78-7.78 2.81-2.81c.8-.78.8-2.07 0-2.86zM5.41 20L4 18.59l7.72-7.72 1.47 1.35L5.41 20z\"/>\n",
              "  </svg>\n",
              "      </button>\n",
              "      \n",
              "  <style>\n",
              "    .colab-df-container {\n",
              "      display:flex;\n",
              "      flex-wrap:wrap;\n",
              "      gap: 12px;\n",
              "    }\n",
              "\n",
              "    .colab-df-convert {\n",
              "      background-color: #E8F0FE;\n",
              "      border: none;\n",
              "      border-radius: 50%;\n",
              "      cursor: pointer;\n",
              "      display: none;\n",
              "      fill: #1967D2;\n",
              "      height: 32px;\n",
              "      padding: 0 0 0 0;\n",
              "      width: 32px;\n",
              "    }\n",
              "\n",
              "    .colab-df-convert:hover {\n",
              "      background-color: #E2EBFA;\n",
              "      box-shadow: 0px 1px 2px rgba(60, 64, 67, 0.3), 0px 1px 3px 1px rgba(60, 64, 67, 0.15);\n",
              "      fill: #174EA6;\n",
              "    }\n",
              "\n",
              "    [theme=dark] .colab-df-convert {\n",
              "      background-color: #3B4455;\n",
              "      fill: #D2E3FC;\n",
              "    }\n",
              "\n",
              "    [theme=dark] .colab-df-convert:hover {\n",
              "      background-color: #434B5C;\n",
              "      box-shadow: 0px 1px 3px 1px rgba(0, 0, 0, 0.15);\n",
              "      filter: drop-shadow(0px 1px 2px rgba(0, 0, 0, 0.3));\n",
              "      fill: #FFFFFF;\n",
              "    }\n",
              "  </style>\n",
              "\n",
              "      <script>\n",
              "        const buttonEl =\n",
              "          document.querySelector('#df-27ac08c1-736e-485e-b961-d82b7ac0bfb7 button.colab-df-convert');\n",
              "        buttonEl.style.display =\n",
              "          google.colab.kernel.accessAllowed ? 'block' : 'none';\n",
              "\n",
              "        async function convertToInteractive(key) {\n",
              "          const element = document.querySelector('#df-27ac08c1-736e-485e-b961-d82b7ac0bfb7');\n",
              "          const dataTable =\n",
              "            await google.colab.kernel.invokeFunction('convertToInteractive',\n",
              "                                                     [key], {});\n",
              "          if (!dataTable) return;\n",
              "\n",
              "          const docLinkHtml = 'Like what you see? Visit the ' +\n",
              "            '<a target=\"_blank\" href=https://colab.research.google.com/notebooks/data_table.ipynb>data table notebook</a>'\n",
              "            + ' to learn more about interactive tables.';\n",
              "          element.innerHTML = '';\n",
              "          dataTable['output_type'] = 'display_data';\n",
              "          await google.colab.output.renderOutput(dataTable, element);\n",
              "          const docLink = document.createElement('div');\n",
              "          docLink.innerHTML = docLinkHtml;\n",
              "          element.appendChild(docLink);\n",
              "        }\n",
              "      </script>\n",
              "    </div>\n",
              "  </div>\n",
              "  "
            ]
          },
          "metadata": {},
          "execution_count": 163
        }
      ]
    },
    {
      "cell_type": "code",
      "source": [
        "#1\n",
        "ms = df.loc[:,\"NYC Consumption(Million gallons per day)\"]\n",
        "np.max(ms)"
      ],
      "metadata": {
        "colab": {
          "base_uri": "https://localhost:8080/"
        },
        "id": "s7DSOLzyy1Bf",
        "outputId": "12d67553-b7cc-480a-b216-96aea58fadc2"
      },
      "execution_count": 162,
      "outputs": [
        {
          "output_type": "execute_result",
          "data": {
            "text/plain": [
              "1512.0"
            ]
          },
          "metadata": {},
          "execution_count": 162
        }
      ]
    },
    {
      "cell_type": "code",
      "source": [
        "#2\n",
        "print('Calendar Years: ',df.shape[0])"
      ],
      "metadata": {
        "colab": {
          "base_uri": "https://localhost:8080/"
        },
        "id": "1LAMx1WS7xY-",
        "outputId": "aba11ae5-458f-46cf-d47e-95da08905040"
      },
      "execution_count": 161,
      "outputs": [
        {
          "output_type": "stream",
          "name": "stdout",
          "text": [
            "Calendar Years:  39\n"
          ]
        }
      ]
    },
    {
      "cell_type": "code",
      "source": [
        "#3\n",
        "ms = df.loc[:,\"Per Capita(Gallons per person per day)\"]\n",
        "mn = np.mean(ms)\n",
        "st = np.std(ms)\n",
        "print(mn)\n",
        "print(st)"
      ],
      "metadata": {
        "colab": {
          "base_uri": "https://localhost:8080/"
        },
        "id": "UQojvyY87x3k",
        "outputId": "32a9c5a0-98a9-470e-df22-11c3d8522834"
      },
      "execution_count": 160,
      "outputs": [
        {
          "output_type": "stream",
          "name": "stdout",
          "text": [
            "160.30769230769232\n",
            "31.51894330370624\n"
          ]
        }
      ]
    },
    {
      "cell_type": "code",
      "source": [
        "#4\n",
        "id = df.loc[:,\"New York City Population\"]\n",
        "pop = id.astype(float)\n",
        "pop_diff = np.diff(pop)\n",
        "print(pop_diff)"
      ],
      "metadata": {
        "colab": {
          "base_uri": "https://localhost:8080/"
        },
        "id": "Xusy9JWl7yLo",
        "outputId": "2d4e1158-042a-467b-a1e4-e470d0affc11"
      },
      "execution_count": 159,
      "outputs": [
        {
          "output_type": "stream",
          "name": "stdout",
          "text": [
            "[-30461.   17602.   19864.   72119.   53290.   39540.   45192.   23230.\n",
            "  11243.   -9544.   -8525.   38851.   54443.   77222.   64292.   62582.\n",
            "  64772.   75631.   84816.   89401.   60618.   16685.5  16685.5  16685.5\n",
            "  16685.5  16685.5  16685.5  16685.5  16685.5  16685.5  16685.5 108965.\n",
            "  77081.   61281.   49530.   44512.   21171.   85025. ]\n"
          ]
        }
      ]
    }
  ]
}